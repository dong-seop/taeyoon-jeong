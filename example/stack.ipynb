{
 "cells": [
  {
   "cell_type": "code",
   "execution_count": 95,
   "metadata": {},
   "outputs": [],
   "source": [
    "class STACK():\n",
    "    def __init__(self): #initialize the instance \n",
    "        self.stack = list()\n",
    "        print(\"니가스택 만듬\")\n",
    "    def pop(self):\n",
    "        try:\n",
    "            print(self.stack.pop())\n",
    "        except IndexError:\n",
    "            print(-1)\n",
    "            \n",
    "    def push(self,data):\n",
    "        self.stack.append(data)\n",
    "    \n",
    "    def empty(self):\n",
    "        if not self.stack:\n",
    "            print(1)\n",
    "        else:\n",
    "            print(0)\n",
    "    \n",
    "    def size(self):\n",
    "        return len(self.stack)\n",
    "    \n",
    "    def top(self):\n",
    "        try:\n",
    "            print(self.stack[-1])\n",
    "        except IndexError:\n",
    "            print(-1)"
   ]
  }
 ],
 "metadata": {
  "kernelspec": {
   "display_name": "Python 3",
   "language": "python",
   "name": "python3"
  },
  "language_info": {
   "codemirror_mode": {
    "name": "ipython",
    "version": 3
   },
   "file_extension": ".py",
   "mimetype": "text/x-python",
   "name": "python",
   "nbconvert_exporter": "python",
   "pygments_lexer": "ipython3",
   "version": "3.6.5"
  }
 },
 "nbformat": 4,
 "nbformat_minor": 2
}
